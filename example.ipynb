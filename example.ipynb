{
 "cells": [
  {
   "cell_type": "code",
   "execution_count": 1,
   "metadata": {},
   "outputs": [],
   "source": [
    "# Dash App\n",
    "from jupyter_wsgi import AppViewer\n",
    "import dash\n",
    "import dash_html_components as html\n",
    "import dash_core_components as dcc\n",
    "from dash.dependencies import Input, Output"
   ]
  },
  {
   "cell_type": "code",
   "execution_count": 2,
   "metadata": {},
   "outputs": [],
   "source": [
    "# Get a AppViewer object, you need to give it the base of your url:\n",
    "viewer = AppViewer('https://jupyter.soterawireless.io',port=8051)\n",
    "\n",
    "# Create a dash app\n",
    "app = dash.Dash(__name__)\n",
    "app.config.update({'requests_pathname_prefix': viewer.requests_pathname_prefix})"
   ]
  },
  {
   "cell_type": "code",
   "execution_count": 3,
   "metadata": {},
   "outputs": [],
   "source": [
    "# Define the layout of the dash app\n",
    "# If you change the layout you must stop your server \n",
    "# and start it again (e.g. run viewer.show() )\n",
    "app.layout = html.Div([\n",
    "    dcc.Input(id='my-id', value='initial value', type='text'),\n",
    "    html.Div(id='my-div'), html.Div(id='my-except')\n",
    "])"
   ]
  },
  {
   "cell_type": "code",
   "execution_count": 4,
   "metadata": {},
   "outputs": [],
   "source": [
    "def my_print_f (value,  testme):\n",
    "    return f'You entered \"{value}\"\\ntestme = \"{testme}\"\"\\n '"
   ]
  },
  {
   "cell_type": "code",
   "execution_count": 11,
   "metadata": {},
   "outputs": [],
   "source": [
    "# Define the callbacks of the dash app.\n",
    "# You can make changes to your callbacks and rerun\n",
    "# this cell without restarting your dash app.\n",
    "app.callback_map.clear()\n",
    "\n",
    "value = None\n",
    "testme = \"Foo\"\n",
    "\n",
    "@app.callback(\n",
    "    Output(component_id='my-div', component_property='children'),\n",
    "    [Input(component_id='my-id',  component_property='value')]\n",
    ")\n",
    "@viewer.handle_exceptions(str)\n",
    "def update_output_div(input_value):\n",
    "    # You can access global variables directly, this is useful\n",
    "    # for development and debugging but should not be used \n",
    "    # in production, see:\n",
    "    # https://dash.plot.ly/sharing-data-between-callbacks\n",
    "\n",
    "    global value, testme\n",
    "    value = input_value\n",
    "    string_ = my_print_f(input_value, testme)\n",
    "    \n",
    "    return string_\n",
    "\n",
    "@app.callback(\n",
    "    Output(component_id='my-except', component_property='children'),\n",
    "    [Input(component_id='my-id',  component_property='value')]\n",
    ")\n",
    "def update_ouput_div(input_value):\n",
    "    global viewer\n",
    "    return viewer._exception_"
   ]
  },
  {
   "cell_type": "code",
   "execution_count": 6,
   "metadata": {},
   "outputs": [
    {
     "data": {
      "text/html": [
       "\n",
       "        <iframe\n",
       "            width=\"300\"\n",
       "            height=\"300\"\n",
       "            src=\"https://jupyter.soterawireless.io//user/ihenry/proxy/8051/\"\n",
       "            frameborder=\"0\"\n",
       "            allowfullscreen\n",
       "        ></iframe>\n",
       "        "
      ],
      "text/plain": [
       "<IPython.lib.display.IFrame at 0x7f9930a2c320>"
      ]
     },
     "metadata": {},
     "output_type": "display_data"
    }
   ],
   "source": [
    "# run the server and display to this cell's output\n",
    "# You can also right click on this cell and select \n",
    "# \"Create New View for output\" to see your app\n",
    "# in different tab\n",
    "await viewer.show(app.server.wsgi_app)"
   ]
  },
  {
   "cell_type": "code",
   "execution_count": null,
   "metadata": {},
   "outputs": [],
   "source": [
    "# you can access the global variable set in update_output_div()\n",
    "print (value)"
   ]
  },
  {
   "cell_type": "code",
   "execution_count": 11,
   "metadata": {},
   "outputs": [],
   "source": [
    "# run this to stop your server\n",
    "await viewer.stop()"
   ]
  },
  {
   "cell_type": "code",
   "execution_count": null,
   "metadata": {},
   "outputs": [],
   "source": []
  }
 ],
 "metadata": {
  "kernelspec": {
   "display_name": "Dash",
   "language": "python",
   "name": "dash"
  },
  "language_info": {
   "codemirror_mode": {
    "name": "ipython",
    "version": 3
   },
   "file_extension": ".py",
   "mimetype": "text/x-python",
   "name": "python",
   "nbconvert_exporter": "python",
   "pygments_lexer": "ipython3",
   "version": "3.7.2"
  }
 },
 "nbformat": 4,
 "nbformat_minor": 2
}
